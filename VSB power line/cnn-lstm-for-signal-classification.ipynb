{
 "cells": [
  {
   "cell_type": "code",
   "execution_count": 1,
   "metadata": {
    "_cell_guid": "79c7e3d0-c299-4dcb-8224-4455121ee9b0",
    "_uuid": "d629ff2d2480ee46fbb7e2d37f6b5fab8052498a"
   },
   "outputs": [
    {
     "name": "stderr",
     "output_type": "stream",
     "text": [
      "Using TensorFlow backend.\n"
     ]
    }
   ],
   "source": [
    "import keras\n",
    "import keras.backend as K\n",
    "from keras.layers import *\n",
    "from keras.models import Sequential\n",
    "import tensorflow as tf\n",
    "import gc\n",
    "from numba import jit\n",
    "from IPython.display import display, clear_output\n",
    "from tqdm import tqdm,tqdm_notebook\n",
    "import matplotlib.pyplot as plt\n",
    "%matplotlib inline\n",
    "import seaborn as sns\n",
    "import sys\n",
    "from keras.callbacks import *\n",
    "sns.set_style(\"whitegrid\")"
   ]
  },
  {
   "cell_type": "markdown",
   "metadata": {
    "_uuid": "f195687039a2f89dbad20ec8bb132f34d2dd5e55"
   },
   "source": [
    "## 1. Load Data"
   ]
  },
  {
   "cell_type": "code",
   "execution_count": 2,
   "metadata": {
    "_uuid": "e06765b00810004c271944be1360e0b62fa64134"
   },
   "outputs": [],
   "source": [
    "import pyarrow.parquet as pq\n",
    "import pandas as pd\n",
    "import numpy as np"
   ]
  },
  {
   "cell_type": "code",
   "execution_count": 3,
   "metadata": {
    "_uuid": "935c2ba4d25cae753e04645a168decb84b6ce964"
   },
   "outputs": [
    {
     "name": "stdout",
     "output_type": "stream",
     "text": [
      "CPU times: user 41.7 s, sys: 23.5 s, total: 1min 5s\n",
      "Wall time: 1min 5s\n"
     ]
    }
   ],
   "source": [
    "%%time \n",
    "train_set = pq.read_pandas('../input/train.parquet').to_pandas()"
   ]
  },
  {
   "cell_type": "code",
   "execution_count": 4,
   "metadata": {
    "_uuid": "e217109aeec443c5cb64fdc716ef433f306c436c"
   },
   "outputs": [
    {
     "name": "stdout",
     "output_type": "stream",
     "text": [
      "CPU times: user 12 ms, sys: 8 ms, total: 20 ms\n",
      "Wall time: 19.1 ms\n"
     ]
    }
   ],
   "source": [
    "%%time\n",
    "meta_train = pd.read_csv('../input/metadata_train.csv')"
   ]
  },
  {
   "cell_type": "code",
   "execution_count": 5,
   "metadata": {
    "_uuid": "2f59b6ad404aafeb4424973252a13b093c78dced"
   },
   "outputs": [],
   "source": [
    "def matthews_correlation(y_true, y_pred):\n",
    "    '''Calculates the Matthews correlation coefficient measure for quality\n",
    "    of binary classification problems.\n",
    "    '''\n",
    "    y_pred_pos = K.round(K.clip(y_pred, 0, 1))\n",
    "    y_pred_neg = 1 - y_pred_pos\n",
    "    y_pos = K.round(K.clip(y_true, 0, 1))\n",
    "    y_neg = 1 - y_pos\n",
    "    tp = K.sum(y_pos * y_pred_pos)\n",
    "    tn = K.sum(y_neg * y_pred_neg)\n",
    "    fp = K.sum(y_neg * y_pred_pos)\n",
    "    fn = K.sum(y_pos * y_pred_neg)\n",
    "    numerator = (tp * tn - fp * fn)\n",
    "    denominator = K.sqrt((tp + fp) * (tp + fn) * (tn + fp) * (tn + fn))\n",
    "    return numerator / (denominator + K.epsilon())"
   ]
  },
  {
   "cell_type": "markdown",
   "metadata": {
    "_uuid": "809b6250e1643fa4a4dae5230dc07772c9b56084"
   },
   "source": [
    "## 2. Process and Minimize Data"
   ]
  },
  {
   "cell_type": "code",
   "execution_count": 6,
   "metadata": {
    "_uuid": "f831622c95662f6e329feba255c8e432070e37ef"
   },
   "outputs": [],
   "source": [
    "n_part,n_steps = 400,40\n",
    "n_length = int(n_part/n_steps)\n",
    "xlength = 800000\n",
    "pool = np.int32(np.ceil(xlength/n_part))"
   ]
  },
  {
   "cell_type": "code",
   "execution_count": 7,
   "metadata": {
    "_uuid": "36f9662e947b286fa6505a4c8183daff1b8c1570"
   },
   "outputs": [],
   "source": [
    "#@jit('float32(float32[:,:], int32)')\n",
    "def feature_extractor(x,n_part,n_steps):\n",
    "    x = x/128\n",
    "    output = []\n",
    "    for j, i in enumerate(range(0,xlength, pool)):\n",
    "        if i+pool < xlength:\n",
    "            k = x[i:i+pool]\n",
    "        else:\n",
    "            k = x[i:]\n",
    "#         maxv = np.max(k, axis=0)\n",
    "#         minv = np.min(k, axis=0)\n",
    "        mean = np.mean(k, axis=0)\n",
    "        perctentile = np.percentile(k, [0, 1, 5, 15, 25, 50, 75, 85, 95, 99, 100])\n",
    "        zero_cross = len(np.where(np.diff(np.sign(k-mean)))[0])/pool\n",
    "        \n",
    "        output.append(np.concatenate((perctentile,[zero_cross])))\n",
    "    return np.array(output).reshape(n_steps,n_length,-1)"
   ]
  },
  {
   "cell_type": "code",
   "execution_count": 8,
   "metadata": {
    "_uuid": "906bf0982a68eec8067e759cc71800a44e082be0"
   },
   "outputs": [],
   "source": [
    "test = feature_extractor(train_set.iloc[:, 0].values, n_part,n_steps)"
   ]
  },
  {
   "cell_type": "code",
   "execution_count": 9,
   "metadata": {
    "_uuid": "fe949b9aeaddbd4dbd741902fffec1dd536b26fd"
   },
   "outputs": [
    {
     "data": {
      "text/plain": [
       "(40, 10, 12)"
      ]
     },
     "execution_count": 9,
     "metadata": {},
     "output_type": "execute_result"
    }
   ],
   "source": [
    "test.shape"
   ]
  },
  {
   "cell_type": "code",
   "execution_count": 10,
   "metadata": {
    "_uuid": "8d65165cb5be80ac771d318f0eed6ab954c75df1"
   },
   "outputs": [
    {
     "data": {
      "application/vnd.jupyter.widget-view+json": {
       "model_id": "bfd5172708ea4670a3c3133625066b57",
       "version_major": 2,
       "version_minor": 0
      },
      "text/plain": [
       "HBox(children=(IntProgress(value=0, max=2904), HTML(value='')))"
      ]
     },
     "metadata": {},
     "output_type": "display_data"
    },
    {
     "name": "stdout",
     "output_type": "stream",
     "text": [
      "\n"
     ]
    }
   ],
   "source": [
    "x_train = []\n",
    "y_train = []\n",
    "idlist=meta_train.id_measurement.unique()\n",
    "for i in tqdm_notebook(idlist):\n",
    "    y_train.append(int(meta_train.loc[meta_train.id_measurement==i, 'target'].sum()>0))\n",
    "    xx=[]\n",
    "    for phase in [0,1,2]:\n",
    "        idx = i*3+phase\n",
    "        xx.append(feature_extractor(train_set.iloc[:, idx].values,n_part,n_steps))\n",
    "    x_train.append(np.concatenate(xx,axis=2))"
   ]
  },
  {
   "cell_type": "code",
   "execution_count": 11,
   "metadata": {
    "_uuid": "60352e6e0c56e4ef6a33e1e9b08b07e6142d5ff9"
   },
   "outputs": [
    {
     "name": "stdout",
     "output_type": "stream",
     "text": [
      "(2904, 40, 10, 36) (2904,)\n"
     ]
    }
   ],
   "source": [
    "print(np.array(x_train).shape,np.array(y_train).shape)"
   ]
  },
  {
   "cell_type": "code",
   "execution_count": 12,
   "metadata": {
    "_uuid": "9996787bc66afb9f883a10f183fa6e68d705539f"
   },
   "outputs": [
    {
     "data": {
      "text/plain": [
       "[<matplotlib.lines.Line2D at 0x7f5684e71c18>,\n",
       " <matplotlib.lines.Line2D at 0x7f5684e71e80>,\n",
       " <matplotlib.lines.Line2D at 0x7f5684e79ba8>,\n",
       " <matplotlib.lines.Line2D at 0x7f5684e79588>,\n",
       " <matplotlib.lines.Line2D at 0x7f5684e790b8>,\n",
       " <matplotlib.lines.Line2D at 0x7f5684e79320>,\n",
       " <matplotlib.lines.Line2D at 0x7f5684e796d8>,\n",
       " <matplotlib.lines.Line2D at 0x7f5684e79940>,\n",
       " <matplotlib.lines.Line2D at 0x7f5684e79cf8>,\n",
       " <matplotlib.lines.Line2D at 0x7f5684e79f60>,\n",
       " <matplotlib.lines.Line2D at 0x7f5684f40da0>,\n",
       " <matplotlib.lines.Line2D at 0x7f5684e844a8>,\n",
       " <matplotlib.lines.Line2D at 0x7f5684e84080>,\n",
       " <matplotlib.lines.Line2D at 0x7f5684e84438>,\n",
       " <matplotlib.lines.Line2D at 0x7f5684e846a0>,\n",
       " <matplotlib.lines.Line2D at 0x7f5684e84a58>,\n",
       " <matplotlib.lines.Line2D at 0x7f5684e84cc0>,\n",
       " <matplotlib.lines.Line2D at 0x7f5684e87f28>,\n",
       " <matplotlib.lines.Line2D at 0x7f5684e87908>,\n",
       " <matplotlib.lines.Line2D at 0x7f5684e872e8>,\n",
       " <matplotlib.lines.Line2D at 0x7f5684e87160>,\n",
       " <matplotlib.lines.Line2D at 0x7f5684e87518>,\n",
       " <matplotlib.lines.Line2D at 0x7f5684e87780>,\n",
       " <matplotlib.lines.Line2D at 0x7f5684e87b38>,\n",
       " <matplotlib.lines.Line2D at 0x7f5684e87da0>,\n",
       " <matplotlib.lines.Line2D at 0x7f5684e91d68>,\n",
       " <matplotlib.lines.Line2D at 0x7f5684e91748>,\n",
       " <matplotlib.lines.Line2D at 0x7f5684e91128>,\n",
       " <matplotlib.lines.Line2D at 0x7f5684e91240>,\n",
       " <matplotlib.lines.Line2D at 0x7f5684e915f8>,\n",
       " <matplotlib.lines.Line2D at 0x7f5684e91860>,\n",
       " <matplotlib.lines.Line2D at 0x7f5684e91c18>,\n",
       " <matplotlib.lines.Line2D at 0x7f5684e91e80>,\n",
       " <matplotlib.lines.Line2D at 0x7f5684e9aba8>,\n",
       " <matplotlib.lines.Line2D at 0x7f5684e9a588>,\n",
       " <matplotlib.lines.Line2D at 0x7f5684e9a0b8>]"
      ]
     },
     "execution_count": 12,
     "metadata": {},
     "output_type": "execute_result"
    },
    {
     "data": {
      "image/png": "[encoded data removed]",
      "text/plain": [
       "<Figure size 432x288 with 1 Axes>"
      ]
     },
     "metadata": {},
     "output_type": "display_data"
    }
   ],
   "source": [
    "plt.plot(x_train[0][0])"
   ]
  },
  {
   "cell_type": "code",
   "execution_count": 13,
   "metadata": {
    "_uuid": "83ce36dd1a85aaad8b446e452cbc7e19b882164b"
   },
   "outputs": [],
   "source": [
    "# x_train = []\n",
    "# y_train = []\n",
    "# for i in tqdm(meta_train.signal_id):\n",
    "#     idx = meta_train.loc[meta_train.signal_id==i, 'signal_id'].values.tolist()\n",
    "#     y_train.append(meta_train.loc[meta_train.signal_id==i, 'target'].values)\n",
    "#     x_train.append(abs(feature_extractor(train_set.iloc[:, idx].values, n_part=1000)))"
   ]
  },
  {
   "cell_type": "code",
   "execution_count": 14,
   "metadata": {
    "_uuid": "4cc6eef2ae63a2c79d08c5fe1ce8670449fb807a"
   },
   "outputs": [
    {
     "data": {
      "text/plain": [
       "0"
      ]
     },
     "execution_count": 14,
     "metadata": {},
     "output_type": "execute_result"
    }
   ],
   "source": [
    "del train_set; gc.collect()"
   ]
  },
  {
   "cell_type": "code",
   "execution_count": 15,
   "metadata": {
    "_uuid": "cad66118494f25f70c9ace7b85bea500f1c680c8"
   },
   "outputs": [],
   "source": [
    "y_train = np.array(y_train).reshape(-1,)\n",
    "X_train = np.array(x_train)#.reshape(-1,x_train[0].shape[0])"
   ]
  },
  {
   "cell_type": "code",
   "execution_count": 16,
   "metadata": {
    "_uuid": "c41f457919ac4fb609b9201b6e701c055ccc5d03"
   },
   "outputs": [],
   "source": [
    "#X_train.shape[-1]"
   ]
  },
  {
   "cell_type": "markdown",
   "metadata": {
    "_uuid": "f634073305f25a13dbea2713f3987a98cd7a98f5"
   },
   "source": [
    "## 3. Build Primitive CNN + LSTM Model"
   ]
  },
  {
   "cell_type": "markdown",
   "metadata": {
    "_uuid": "0dea1e4b86a1b6d9a6a516ae97eeefa60581b71e"
   },
   "source": [
    "* CNN is for feature extraction and LSTM is for capturing time dependency."
   ]
  },
  {
   "cell_type": "code",
   "execution_count": 17,
   "metadata": {
    "_uuid": "034ea6d8cf8bd8a09eb5943ebb3faa01cd991e9d"
   },
   "outputs": [],
   "source": [
    "n_signals = X_train.shape[-1]\n",
    "n_outputs = 1 #Binary Classification"
   ]
  },
  {
   "cell_type": "code",
   "execution_count": 18,
   "metadata": {
    "_uuid": "1c05ecc6abef0b822e422950a5824ea8c55ba861"
   },
   "outputs": [
    {
     "name": "stdout",
     "output_type": "stream",
     "text": [
      "WARNING:tensorflow:From /opt/conda/lib/python3.6/site-packages/tensorflow/python/framework/op_def_library.py:263: colocate_with (from tensorflow.python.framework.ops) is deprecated and will be removed in a future version.\n",
      "Instructions for updating:\n",
      "Colocations handled automatically by placer.\n",
      "WARNING:tensorflow:From /opt/conda/lib/python3.6/site-packages/keras/backend/tensorflow_backend.py:3445: calling dropout (from tensorflow.python.ops.nn_ops) with keep_prob is deprecated and will be removed in a future version.\n",
      "Instructions for updating:\n",
      "Please use `rate` instead of `keep_prob`. Rate should be set to `rate = 1 - keep_prob`.\n"
     ]
    }
   ],
   "source": [
    "K.clear_session()\n",
    "#Build the model\n",
    "verbose, epochs, batch_size = True, 50, 128\n",
    "#X_train = X_train.reshape((X_train.shape[0], n_steps, n_length, n_signals))\n",
    "# define model\n",
    "model = Sequential()\n",
    "model.add(TimeDistributed(Conv1D(filters=64, kernel_size=3, activation='relu'), input_shape=(None,n_length,n_signals)))\n",
    "model.add(TimeDistributed(MaxPooling1D(pool_size=2)))\n",
    "model.add(TimeDistributed(Conv1D(filters=128, kernel_size=3, activation='relu')))\n",
    "model.add(TimeDistributed(Dropout(0.5)))\n",
    "model.add(TimeDistributed(MaxPooling1D(pool_size=2)))\n",
    "model.add(TimeDistributed(Flatten()))\n",
    "model.add(Bidirectional(LSTM(128)))#LSTM(100))\n",
    "#model.add(Dropout(0.5))\n",
    "model.add(Dense(64, activation='relu'))\n",
    "#model.add(Dense(16, activation='relu'))\n",
    "model.add(Dense(n_outputs, activation='sigmoid'))"
   ]
  },
  {
   "cell_type": "code",
   "execution_count": 19,
   "metadata": {
    "_uuid": "e48f5b3c1e9cffb34ef0f395f668a205b9cd2508"
   },
   "outputs": [],
   "source": [
    "model.compile(loss='binary_crossentropy', optimizer='adam', metrics=[matthews_correlation])"
   ]
  },
  {
   "cell_type": "code",
   "execution_count": 20,
   "metadata": {
    "_uuid": "7092f9b2feb4b98b47a72738b956a38f178e0075"
   },
   "outputs": [
    {
     "name": "stdout",
     "output_type": "stream",
     "text": [
      "WARNING:tensorflow:From /opt/conda/lib/python3.6/site-packages/tensorflow/python/ops/math_ops.py:3066: to_int32 (from tensorflow.python.ops.math_ops) is deprecated and will be removed in a future version.\n",
      "Instructions for updating:\n",
      "Use tf.cast instead.\n",
      "Train on 2178 samples, validate on 726 samples\n",
      "Epoch 1/50\n",
      "2178/2178 [==============================] - 8s 4ms/step - loss: 0.3581 - matthews_correlation: 0.0000e+00 - val_loss: 0.2971 - val_matthews_correlation: 0.0000e+00\n",
      "\n",
      "Epoch 00001: val_matthews_correlation improved from -inf to 0.00000, saving model to model1.hdf5\n",
      "Epoch 2/50\n",
      "2178/2178 [==============================] - 6s 3ms/step - loss: 0.2603 - matthews_correlation: 0.0000e+00 - val_loss: 0.2231 - val_matthews_correlation: 0.0000e+00\n",
      "\n",
      "Epoch 00002: val_matthews_correlation did not improve from 0.00000\n",
      "Epoch 3/50\n",
      "2178/2178 [==============================] - 6s 3ms/step - loss: 0.2494 - matthews_correlation: 0.0000e+00 - val_loss: 0.2148 - val_matthews_correlation: 0.0000e+00\n",
      "\n",
      "Epoch 00003: val_matthews_correlation did not improve from 0.00000\n",
      "Epoch 4/50\n",
      "2178/2178 [==============================] - 6s 3ms/step - loss: 0.2361 - matthews_correlation: 0.0000e+00 - val_loss: 0.2016 - val_matthews_correlation: 0.0000e+00\n",
      "\n",
      "Epoch 00004: val_matthews_correlation did not improve from 0.00000\n",
      "Epoch 5/50\n",
      "2178/2178 [==============================] - 6s 3ms/step - loss: 0.2308 - matthews_correlation: 0.1454 - val_loss: 0.1921 - val_matthews_correlation: 0.0500\n",
      "\n",
      "Epoch 00005: val_matthews_correlation improved from 0.00000 to 0.05000, saving model to model1.hdf5\n",
      "Epoch 6/50\n",
      "2178/2178 [==============================] - 6s 3ms/step - loss: 0.2197 - matthews_correlation: 0.0754 - val_loss: 0.1959 - val_matthews_correlation: 0.0000e+00\n",
      "\n",
      "Epoch 00006: val_matthews_correlation did not improve from 0.05000\n",
      "Epoch 7/50\n",
      "2178/2178 [==============================] - 6s 3ms/step - loss: 0.2118 - matthews_correlation: 0.2126 - val_loss: 0.2061 - val_matthews_correlation: 0.1254\n",
      "\n",
      "Epoch 00007: val_matthews_correlation improved from 0.05000 to 0.12544, saving model to model1.hdf5\n",
      "Epoch 8/50\n",
      "2178/2178 [==============================] - 6s 3ms/step - loss: 0.1770 - matthews_correlation: 0.2083 - val_loss: 0.1438 - val_matthews_correlation: 0.2216\n",
      "\n",
      "Epoch 00008: val_matthews_correlation improved from 0.12544 to 0.22162, saving model to model1.hdf5\n",
      "Epoch 9/50\n",
      "2178/2178 [==============================] - 6s 3ms/step - loss: 0.1378 - matthews_correlation: 0.5899 - val_loss: 0.1338 - val_matthews_correlation: 0.3344\n",
      "\n",
      "Epoch 00009: val_matthews_correlation improved from 0.22162 to 0.33443, saving model to model1.hdf5\n",
      "Epoch 10/50\n",
      "2178/2178 [==============================] - 6s 3ms/step - loss: 0.2060 - matthews_correlation: 0.2913 - val_loss: 0.1616 - val_matthews_correlation: 0.0682\n",
      "\n",
      "Epoch 00010: val_matthews_correlation did not improve from 0.33443\n",
      "Epoch 11/50\n",
      "2178/2178 [==============================] - 6s 3ms/step - loss: 0.1703 - matthews_correlation: 0.2996 - val_loss: 0.1473 - val_matthews_correlation: 0.2726\n",
      "\n",
      "Epoch 00011: val_matthews_correlation did not improve from 0.33443\n",
      "Epoch 12/50\n",
      "2178/2178 [==============================] - 6s 3ms/step - loss: 0.1301 - matthews_correlation: 0.5356 - val_loss: 0.1210 - val_matthews_correlation: 0.7043\n",
      "\n",
      "Epoch 00012: val_matthews_correlation improved from 0.33443 to 0.70434, saving model to model1.hdf5\n",
      "Epoch 13/50\n",
      "2178/2178 [==============================] - 6s 3ms/step - loss: 0.1142 - matthews_correlation: 0.6325 - val_loss: 0.1125 - val_matthews_correlation: 0.3922\n",
      "\n",
      "Epoch 00013: val_matthews_correlation did not improve from 0.70434\n",
      "Epoch 14/50\n",
      "2178/2178 [==============================] - 6s 3ms/step - loss: 0.1301 - matthews_correlation: 0.6331 - val_loss: 0.1105 - val_matthews_correlation: 0.6889\n",
      "\n",
      "Epoch 00014: val_matthews_correlation did not improve from 0.70434\n",
      "Epoch 15/50\n",
      "2178/2178 [==============================] - 6s 3ms/step - loss: 0.1085 - matthews_correlation: 0.6367 - val_loss: 0.1180 - val_matthews_correlation: 0.6515\n",
      "\n",
      "Epoch 00015: val_matthews_correlation did not improve from 0.70434\n",
      "Epoch 16/50\n",
      "2178/2178 [==============================] - 6s 3ms/step - loss: 0.1002 - matthews_correlation: 0.6783 - val_loss: 0.0980 - val_matthews_correlation: 0.6935\n",
      "\n",
      "Epoch 00016: val_matthews_correlation did not improve from 0.70434\n",
      "Epoch 17/50\n",
      "2178/2178 [==============================] - 6s 3ms/step - loss: 0.1075 - matthews_correlation: 0.6317 - val_loss: 0.1227 - val_matthews_correlation: 0.3856\n",
      "\n",
      "Epoch 00017: val_matthews_correlation did not improve from 0.70434\n",
      "Epoch 18/50\n",
      "2178/2178 [==============================] - 6s 3ms/step - loss: 0.1193 - matthews_correlation: 0.6339 - val_loss: 0.1097 - val_matthews_correlation: 0.6963\n",
      "\n",
      "Epoch 00018: val_matthews_correlation did not improve from 0.70434\n",
      "Epoch 19/50\n",
      "2178/2178 [==============================] - 6s 3ms/step - loss: 0.0958 - matthews_correlation: 0.7089 - val_loss: 0.1081 - val_matthews_correlation: 0.4636\n",
      "\n",
      "Epoch 00019: val_matthews_correlation did not improve from 0.70434\n",
      "Epoch 20/50\n",
      "2178/2178 [==============================] - 6s 3ms/step - loss: 0.2032 - matthews_correlation: 0.4733 - val_loss: 0.1578 - val_matthews_correlation: 0.3981\n",
      "\n",
      "Epoch 00020: val_matthews_correlation did not improve from 0.70434\n",
      "Epoch 21/50\n",
      "2178/2178 [==============================] - 6s 3ms/step - loss: 0.1428 - matthews_correlation: 0.5342 - val_loss: 0.1205 - val_matthews_correlation: 0.5972\n",
      "\n",
      "Epoch 00021: val_matthews_correlation did not improve from 0.70434\n",
      "Epoch 22/50\n",
      "2178/2178 [==============================] - 6s 3ms/step - loss: 0.1051 - matthews_correlation: 0.6727 - val_loss: 0.1142 - val_matthews_correlation: 0.5609\n",
      "\n",
      "Epoch 00022: val_matthews_correlation did not improve from 0.70434\n",
      "Epoch 23/50\n",
      "2178/2178 [==============================] - 6s 3ms/step - loss: 0.1001 - matthews_correlation: 0.7100 - val_loss: 0.1347 - val_matthews_correlation: 0.6738\n",
      "\n",
      "Epoch 00023: val_matthews_correlation did not improve from 0.70434\n",
      "Epoch 24/50\n",
      "2178/2178 [==============================] - 6s 3ms/step - loss: 0.1105 - matthews_correlation: 0.6938 - val_loss: 0.0997 - val_matthews_correlation: 0.5210\n",
      "\n",
      "Epoch 00024: val_matthews_correlation did not improve from 0.70434\n",
      "Epoch 25/50\n",
      "2178/2178 [==============================] - 6s 3ms/step - loss: 0.0981 - matthews_correlation: 0.7155 - val_loss: 0.1047 - val_matthews_correlation: 0.5124\n",
      "\n",
      "Epoch 00025: val_matthews_correlation did not improve from 0.70434\n",
      "Epoch 26/50\n",
      "2178/2178 [==============================] - 6s 3ms/step - loss: 0.1018 - matthews_correlation: 0.7102 - val_loss: 0.1006 - val_matthews_correlation: 0.5033\n",
      "\n",
      "Epoch 00026: val_matthews_correlation did not improve from 0.70434\n",
      "Epoch 27/50\n",
      "2178/2178 [==============================] - 6s 3ms/step - loss: 0.0972 - matthews_correlation: 0.6962 - val_loss: 0.0873 - val_matthews_correlation: 0.6465\n",
      "\n",
      "Epoch 00027: val_matthews_correlation did not improve from 0.70434\n",
      "Epoch 28/50\n",
      "2178/2178 [==============================] - 6s 3ms/step - loss: 0.0931 - matthews_correlation: 0.7250 - val_loss: 0.0932 - val_matthews_correlation: 0.5933\n",
      "\n",
      "Epoch 00028: val_matthews_correlation did not improve from 0.70434\n",
      "Epoch 29/50\n",
      "2178/2178 [==============================] - 6s 3ms/step - loss: 0.0830 - matthews_correlation: 0.7411 - val_loss: 0.0969 - val_matthews_correlation: 0.7283\n",
      "\n",
      "Epoch 00029: val_matthews_correlation improved from 0.70434 to 0.72825, saving model to model1.hdf5\n",
      "Epoch 30/50\n",
      "2178/2178 [==============================] - 6s 3ms/step - loss: 0.0880 - matthews_correlation: 0.7212 - val_loss: 0.1146 - val_matthews_correlation: 0.7349\n",
      "\n",
      "Epoch 00030: val_matthews_correlation improved from 0.72825 to 0.73489, saving model to model1.hdf5\n",
      "Epoch 31/50\n",
      "2178/2178 [==============================] - 6s 3ms/step - loss: 0.0838 - matthews_correlation: 0.7202 - val_loss: 0.0863 - val_matthews_correlation: 0.6888\n",
      "\n",
      "Epoch 00031: val_matthews_correlation did not improve from 0.73489\n",
      "Epoch 32/50\n",
      "2178/2178 [==============================] - 6s 3ms/step - loss: 0.1011 - matthews_correlation: 0.7044 - val_loss: 0.1051 - val_matthews_correlation: 0.7546\n",
      "\n",
      "Epoch 00032: val_matthews_correlation improved from 0.73489 to 0.75456, saving model to model1.hdf5\n",
      "Epoch 33/50\n",
      "2178/2178 [==============================] - 6s 3ms/step - loss: 0.0918 - matthews_correlation: 0.7489 - val_loss: 0.1172 - val_matthews_correlation: 0.7583\n",
      "\n",
      "Epoch 00033: val_matthews_correlation improved from 0.75456 to 0.75829, saving model to model1.hdf5\n",
      "Epoch 34/50\n",
      "2178/2178 [==============================] - 6s 3ms/step - loss: 0.0830 - matthews_correlation: 0.7260 - val_loss: 0.0965 - val_matthews_correlation: 0.7177\n",
      "\n",
      "Epoch 00034: val_matthews_correlation did not improve from 0.75829\n",
      "Epoch 35/50\n",
      "2178/2178 [==============================] - 6s 3ms/step - loss: 0.0832 - matthews_correlation: 0.7443 - val_loss: 0.0941 - val_matthews_correlation: 0.7120\n",
      "\n",
      "Epoch 00035: val_matthews_correlation did not improve from 0.75829\n",
      "Epoch 36/50\n",
      "2178/2178 [==============================] - 6s 3ms/step - loss: 0.0791 - matthews_correlation: 0.7285 - val_loss: 0.1070 - val_matthews_correlation: 0.7491\n",
      "\n",
      "Epoch 00036: val_matthews_correlation did not improve from 0.75829\n",
      "Epoch 37/50\n",
      "2178/2178 [==============================] - 6s 3ms/step - loss: 0.0779 - matthews_correlation: 0.7575 - val_loss: 0.1020 - val_matthews_correlation: 0.7657\n",
      "\n",
      "Epoch 00037: val_matthews_correlation improved from 0.75829 to 0.76573, saving model to model1.hdf5\n",
      "Epoch 38/50\n",
      "2178/2178 [==============================] - 6s 3ms/step - loss: 0.0730 - matthews_correlation: 0.7869 - val_loss: 0.0940 - val_matthews_correlation: 0.6649\n",
      "\n",
      "Epoch 00038: val_matthews_correlation did not improve from 0.76573\n",
      "Epoch 39/50\n",
      "2178/2178 [==============================] - 6s 3ms/step - loss: 0.1653 - matthews_correlation: 0.5500 - val_loss: 0.1138 - val_matthews_correlation: 0.6946\n",
      "\n",
      "Epoch 00039: val_matthews_correlation did not improve from 0.76573\n",
      "Epoch 40/50\n",
      "2178/2178 [==============================] - 6s 3ms/step - loss: 0.1353 - matthews_correlation: 0.6270 - val_loss: 0.1524 - val_matthews_correlation: 0.6098\n",
      "\n",
      "Epoch 00040: val_matthews_correlation did not improve from 0.76573\n",
      "Epoch 41/50\n",
      "2178/2178 [==============================] - 6s 3ms/step - loss: 0.1689 - matthews_correlation: 0.5002 - val_loss: 0.1295 - val_matthews_correlation: 0.7359\n",
      "\n",
      "Epoch 00041: val_matthews_correlation did not improve from 0.76573\n",
      "Epoch 42/50\n",
      "2178/2178 [==============================] - 6s 3ms/step - loss: 0.1094 - matthews_correlation: 0.6656 - val_loss: 0.1024 - val_matthews_correlation: 0.7056\n",
      "\n",
      "Epoch 00042: val_matthews_correlation did not improve from 0.76573\n",
      "Epoch 43/50\n",
      "2178/2178 [==============================] - 6s 3ms/step - loss: 0.0908 - matthews_correlation: 0.7011 - val_loss: 0.0991 - val_matthews_correlation: 0.6787\n",
      "\n",
      "Epoch 00043: val_matthews_correlation did not improve from 0.76573\n",
      "Epoch 44/50\n",
      "2178/2178 [==============================] - 6s 3ms/step - loss: 0.0854 - matthews_correlation: 0.7470 - val_loss: 0.0931 - val_matthews_correlation: 0.7043\n",
      "\n",
      "Epoch 00044: val_matthews_correlation did not improve from 0.76573\n",
      "Epoch 45/50\n",
      "2178/2178 [==============================] - 6s 3ms/step - loss: 0.0828 - matthews_correlation: 0.7373 - val_loss: 0.1166 - val_matthews_correlation: 0.7442\n",
      "\n",
      "Epoch 00045: val_matthews_correlation did not improve from 0.76573\n",
      "Epoch 46/50\n",
      "2178/2178 [==============================] - 6s 3ms/step - loss: 0.0867 - matthews_correlation: 0.7329 - val_loss: 0.0956 - val_matthews_correlation: 0.7496\n",
      "\n",
      "Epoch 00046: val_matthews_correlation did not improve from 0.76573\n",
      "Epoch 47/50\n",
      "2178/2178 [==============================] - 6s 3ms/step - loss: 0.0827 - matthews_correlation: 0.7423 - val_loss: 0.0860 - val_matthews_correlation: 0.7240\n",
      "\n",
      "Epoch 00047: val_matthews_correlation did not improve from 0.76573\n",
      "Epoch 48/50\n",
      "2178/2178 [==============================] - 6s 3ms/step - loss: 0.0847 - matthews_correlation: 0.7432 - val_loss: 0.0948 - val_matthews_correlation: 0.5878\n",
      "\n",
      "Epoch 00048: val_matthews_correlation did not improve from 0.76573\n",
      "Epoch 49/50\n",
      "2178/2178 [==============================] - 6s 3ms/step - loss: 0.1480 - matthews_correlation: 0.6677 - val_loss: 0.1082 - val_matthews_correlation: 0.4561\n",
      "\n",
      "Epoch 00049: val_matthews_correlation did not improve from 0.76573\n",
      "Epoch 50/50\n",
      "2178/2178 [==============================] - 6s 3ms/step - loss: 0.1142 - matthews_correlation: 0.6594 - val_loss: 0.1192 - val_matthews_correlation: 0.6787\n",
      "\n",
      "Epoch 00050: val_matthews_correlation did not improve from 0.76573\n"
     ]
    },
    {
     "data": {
      "text/plain": [
       "<keras.callbacks.History at 0x7f5680179128>"
      ]
     },
     "execution_count": 20,
     "metadata": {},
     "output_type": "execute_result"
    }
   ],
   "source": [
    "ckpt = ModelCheckpoint('model1.hdf5', save_best_only=True, save_weights_only=True, verbose=1, monitor='val_matthews_correlation', mode='max')\n",
    "model.fit(X_train, y_train, epochs=epochs, batch_size=batch_size, verbose=verbose,validation_split=0.25,callbacks=[ckpt])"
   ]
  },
  {
   "cell_type": "code",
   "execution_count": 21,
   "metadata": {
    "_uuid": "f0b9e956922420544e5526499647fa6a810a619f"
   },
   "outputs": [
    {
     "name": "stdout",
     "output_type": "stream",
     "text": [
      "CPU times: user 16 ms, sys: 0 ns, total: 16 ms\n",
      "Wall time: 16.8 ms\n"
     ]
    }
   ],
   "source": [
    "%%time\n",
    "meta_test = pd.read_csv('../input/metadata_test.csv')"
   ]
  },
  {
   "cell_type": "code",
   "execution_count": 22,
   "metadata": {
    "_uuid": "9d1b0776a846b58733a55465b71ba2d283937bc7"
   },
   "outputs": [
    {
     "data": {
      "text/plain": [
       "(40, 10, 12)"
      ]
     },
     "execution_count": 22,
     "metadata": {},
     "output_type": "execute_result"
    }
   ],
   "source": [
    "test = pq.read_pandas('../input/test.parquet',columns=['8715']).to_pandas()\n",
    "feature_extractor(test['8715'].values,n_part,n_steps).shape    "
   ]
  },
  {
   "cell_type": "code",
   "execution_count": 23,
   "metadata": {
    "_uuid": "6aec10ef8cd423326af7871140ed62285255c67a"
   },
   "outputs": [
    {
     "name": "stdout",
     "output_type": "stream",
     "text": [
      "2904 9683\n"
     ]
    },
    {
     "data": {
      "application/vnd.jupyter.widget-view+json": {
       "model_id": "c47d82561f3e4be4ba46b9904fc3f741",
       "version_major": 2,
       "version_minor": 0
      },
      "text/plain": [
       "HBox(children=(IntProgress(value=0, max=677), HTML(value='')))"
      ]
     },
     "metadata": {},
     "output_type": "display_data"
    },
    {
     "name": "stdout",
     "output_type": "stream",
     "text": [
      "\n"
     ]
    },
    {
     "data": {
      "application/vnd.jupyter.widget-view+json": {
       "model_id": "1b90ff904af2464d8a4aac167d6f90ed",
       "version_major": 2,
       "version_minor": 0
      },
      "text/plain": [
       "HBox(children=(IntProgress(value=0, max=677), HTML(value='')))"
      ]
     },
     "metadata": {},
     "output_type": "display_data"
    },
    {
     "name": "stdout",
     "output_type": "stream",
     "text": [
      "\n"
     ]
    },
    {
     "data": {
      "application/vnd.jupyter.widget-view+json": {
       "model_id": "db5484994135439cb243b0d14d6e7556",
       "version_major": 2,
       "version_minor": 0
      },
      "text/plain": [
       "HBox(children=(IntProgress(value=0, max=677), HTML(value='')))"
      ]
     },
     "metadata": {},
     "output_type": "display_data"
    },
    {
     "name": "stdout",
     "output_type": "stream",
     "text": [
      "\n"
     ]
    },
    {
     "data": {
      "application/vnd.jupyter.widget-view+json": {
       "model_id": "890d1f05e00b4407813b2627e7ad3040",
       "version_major": 2,
       "version_minor": 0
      },
      "text/plain": [
       "HBox(children=(IntProgress(value=0, max=677), HTML(value='')))"
      ]
     },
     "metadata": {},
     "output_type": "display_data"
    },
    {
     "name": "stdout",
     "output_type": "stream",
     "text": [
      "\n"
     ]
    },
    {
     "data": {
      "application/vnd.jupyter.widget-view+json": {
       "model_id": "140b8c5e1824447fbb87102538a9d519",
       "version_major": 2,
       "version_minor": 0
      },
      "text/plain": [
       "HBox(children=(IntProgress(value=0, max=677), HTML(value='')))"
      ]
     },
     "metadata": {},
     "output_type": "display_data"
    },
    {
     "name": "stdout",
     "output_type": "stream",
     "text": [
      "\n"
     ]
    },
    {
     "data": {
      "application/vnd.jupyter.widget-view+json": {
       "model_id": "b239945776c841f8b11808424bafdbb7",
       "version_major": 2,
       "version_minor": 0
      },
      "text/plain": [
       "HBox(children=(IntProgress(value=0, max=677), HTML(value='')))"
      ]
     },
     "metadata": {},
     "output_type": "display_data"
    },
    {
     "name": "stdout",
     "output_type": "stream",
     "text": [
      "\n"
     ]
    },
    {
     "data": {
      "application/vnd.jupyter.widget-view+json": {
       "model_id": "d1110d0dc09649ae9f8ae9db428a9f49",
       "version_major": 2,
       "version_minor": 0
      },
      "text/plain": [
       "HBox(children=(IntProgress(value=0, max=677), HTML(value='')))"
      ]
     },
     "metadata": {},
     "output_type": "display_data"
    },
    {
     "name": "stdout",
     "output_type": "stream",
     "text": [
      "\n"
     ]
    },
    {
     "data": {
      "application/vnd.jupyter.widget-view+json": {
       "model_id": "d4343b4b8d914600b294c6881a69b6dd",
       "version_major": 2,
       "version_minor": 0
      },
      "text/plain": [
       "HBox(children=(IntProgress(value=0, max=677), HTML(value='')))"
      ]
     },
     "metadata": {},
     "output_type": "display_data"
    },
    {
     "name": "stdout",
     "output_type": "stream",
     "text": [
      "\n"
     ]
    },
    {
     "data": {
      "application/vnd.jupyter.widget-view+json": {
       "model_id": "34b0af4d45dc48b1bde98bcd84900139",
       "version_major": 2,
       "version_minor": 0
      },
      "text/plain": [
       "HBox(children=(IntProgress(value=0, max=677), HTML(value='')))"
      ]
     },
     "metadata": {},
     "output_type": "display_data"
    }
   ],
   "source": [
    "x_test = []\n",
    "idlist=meta_test.id_measurement.unique()\n",
    "n_slit=10\n",
    "start = idlist[0]\n",
    "end = idlist[-1]+1\n",
    "print(start,end)\n",
    "Nperpart=int((end-start)/n_slit)\n",
    "part=[]\n",
    "while start+Nperpart < end:\n",
    "    part.append([start,start+Nperpart])\n",
    "    start += Nperpart\n",
    "part.append([start,end])\n",
    "\n",
    "for start,end in part:\n",
    "    test_set = pq.read_pandas('../input/test.parquet', \n",
    "                              columns=[str(i) for i in range(start*3, end*3)]).to_pandas()\n",
    "    for i in tqdm_notebook(range(start,end)):\n",
    "        xx=[]\n",
    "        for phase in [0,1,2]:\n",
    "            idx = i*3+phase\n",
    "            xx.append(feature_extractor(test_set[str(idx)].values,n_part,n_steps))\n",
    "        x_test.append(np.concatenate(xx,axis=2))"
   ]
  },
  {
   "cell_type": "code",
   "execution_count": 24,
   "metadata": {
    "_uuid": "a7e9b508c6cd1531b1a1574a2397871d4b9ebc32"
   },
   "outputs": [
    {
     "data": {
      "text/plain": [
       "20372"
      ]
     },
     "execution_count": 24,
     "metadata": {},
     "output_type": "execute_result"
    }
   ],
   "source": [
    "del test_set; gc.collect()"
   ]
  },
  {
   "cell_type": "code",
   "execution_count": 25,
   "metadata": {
    "_uuid": "9fd4b08be3425a2d6b194adb9dff35c4fd03f01e"
   },
   "outputs": [
    {
     "data": {
      "text/plain": [
       "(6779, 40, 10, 36)"
      ]
     },
     "execution_count": 25,
     "metadata": {},
     "output_type": "execute_result"
    }
   ],
   "source": [
    "X_test=np.asarray(x_test)\n",
    "X_test.shape"
   ]
  },
  {
   "cell_type": "code",
   "execution_count": 26,
   "metadata": {
    "_uuid": "337e04c8799ba03e528cebc92485615b322b44bd"
   },
   "outputs": [],
   "source": [
    "model.load_weights('model1.hdf5')\n",
    "preds = model.predict(X_test)"
   ]
  },
  {
   "cell_type": "code",
   "execution_count": 27,
   "metadata": {
    "_uuid": "72a34b08ab91a2a7239d42eb6c69b37ecd08aa7b"
   },
   "outputs": [],
   "source": [
    "threshpreds = (preds>0.5)*1"
   ]
  },
  {
   "cell_type": "code",
   "execution_count": 28,
   "metadata": {
    "_uuid": "28fa72d1dcdf0139173d1ee9f2b0ddf21ce53b3c"
   },
   "outputs": [],
   "source": [
    "sub = pd.read_csv('../input/sample_submission.csv')\n",
    "expandpred=[]\n",
    "for t in threshpreds:\n",
    "    expandpred+=[t[0],t[0],t[0]]\n",
    "sub.target = expandpred"
   ]
  },
  {
   "cell_type": "code",
   "execution_count": 29,
   "metadata": {
    "_uuid": "b4065303092c127e26350dc645827efe23636dde"
   },
   "outputs": [],
   "source": [
    "sub.to_csv('first_sub.csv',index=False)"
   ]
  }
 ],
 "metadata": {
  "kernelspec": {
   "display_name": "Python 3",
   "language": "python",
   "name": "python3"
  },
  "language_info": {
   "codemirror_mode": {
    "name": "ipython",
    "version": 3
   },
   "file_extension": ".py",
   "mimetype": "text/x-python",
   "name": "python",
   "nbconvert_exporter": "python",
   "pygments_lexer": "ipython3",
   "version": "3.6.6"
  }
 },
 "nbformat": 4,
 "nbformat_minor": 1
}
